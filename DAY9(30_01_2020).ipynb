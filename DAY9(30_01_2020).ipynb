{
  "nbformat": 4,
  "nbformat_minor": 0,
  "metadata": {
    "colab": {
      "name": "DAY9(30-01-2020)",
      "provenance": [],
      "authorship_tag": "ABX9TyOc5DU07+qMvDir/ln0BcS2",
      "include_colab_link": true
    },
    "kernelspec": {
      "name": "python3",
      "display_name": "Python 3"
    }
  },
  "cells": [
    {
      "cell_type": "markdown",
      "metadata": {
        "id": "view-in-github",
        "colab_type": "text"
      },
      "source": [
        "<a href=\"https://colab.research.google.com/github/mlavanya843/PYTHON/blob/master/DAY9(30_01_2020).ipynb\" target=\"_parent\"><img src=\"https://colab.research.google.com/assets/colab-badge.svg\" alt=\"Open In Colab\"/></a>"
      ]
    },
    {
      "cell_type": "code",
      "metadata": {
        "id": "x0Ts8YsV7zdT",
        "colab_type": "code",
        "colab": {}
      },
      "source": [
        ""
      ],
      "execution_count": 0,
      "outputs": []
    },
    {
      "cell_type": "markdown",
      "metadata": {
        "id": "dHY7tHqO9og_",
        "colab_type": "text"
      },
      "source": [
        "# Markdown\n",
        "## Markdown\n",
        "### Markdown\n",
        "###### Markdown\n",
        "**Points**\n",
        "*points*\n",
        "***Points***\n",
        "\n",
        "\n"
      ]
    },
    {
      "cell_type": "markdown",
      "metadata": {
        "id": "vnVwrsHh-_xx",
        "colab_type": "text"
      },
      "source": [
        "***Points***\n",
        "\n"
      ]
    },
    {
      "cell_type": "markdown",
      "metadata": {
        "id": "7oQxDS8XAznC",
        "colab_type": "text"
      },
      "source": [
        "*** Adding links to Markdown***\n",
        "[site](https://www.jntua.ac.in/)\n"
      ]
    },
    {
      "cell_type": "markdown",
      "metadata": {
        "id": "Gz5m8s9MBuZb",
        "colab_type": "text"
      },
      "source": [
        ""
      ]
    },
    {
      "cell_type": "markdown",
      "metadata": {
        "id": "IVk6Ih77DHLE",
        "colab_type": "text"
      },
      "source": [
        "### inserting image\n",
        "![text](https://upload.wikimedia.org/wikipedia/en/thumb/e/e3/Jawaharlal_Nehru_Technological_University%2C_Anantapur_logo.png/220px-Jawaharlal_Nehru_Technological_University%2C_Anantapur_logo.png)\n"
      ]
    },
    {
      "cell_type": "code",
      "metadata": {
        "id": "-ZPLeCcyDlaF",
        "colab_type": "code",
        "colab": {
          "base_uri": "https://localhost:8080/",
          "height": 34
        },
        "outputId": "fb0e06f8-e3d1-4498-9445-4be847e05f4b"
      },
      "source": [
        "print(\"lavanya lailu\")"
      ],
      "execution_count": 3,
      "outputs": [
        {
          "output_type": "stream",
          "text": [
            "lavanya lailu\n"
          ],
          "name": "stdout"
        }
      ]
    },
    {
      "cell_type": "markdown",
      "metadata": {
        "id": "LpqUCLGsDV0w",
        "colab_type": "text"
      },
      "source": [
        "print(\"lavanya lailu\")"
      ]
    },
    {
      "cell_type": "code",
      "metadata": {
        "id": "xsOMLM1WH9Et",
        "colab_type": "code",
        "colab": {
          "base_uri": "https://localhost:8080/",
          "height": 51
        },
        "outputId": "015020e0-1294-4e1e-8ea6-f86ce99bf273"
      },
      "source": [
        "print(\"hello , jntua\")\n",
        "print(\"hello, jntua\",\"|||\",\"chemical\")\n"
      ],
      "execution_count": 6,
      "outputs": [
        {
          "output_type": "stream",
          "text": [
            "hello , jntua\n",
            "hello, jntua ||| chemical\n"
          ],
          "name": "stdout"
        }
      ]
    },
    {
      "cell_type": "code",
      "metadata": {
        "id": "UPJoFL_YDd5a",
        "colab_type": "code",
        "colab": {}
      },
      "source": [
        ""
      ],
      "execution_count": 0,
      "outputs": []
    },
    {
      "cell_type": "markdown",
      "metadata": {
        "id": "znQdnrDbJBbA",
        "colab_type": "text"
      },
      "source": [
        "Assignment\n"
      ]
    },
    {
      "cell_type": "code",
      "metadata": {
        "id": "2a8EOfc9JKe6",
        "colab_type": "code",
        "colab": {
          "base_uri": "https://localhost:8080/",
          "height": 68
        },
        "outputId": "35b7e1f9-9268-4982-b88f-eee5cca1961b"
      },
      "source": [
        "n1 = 100 # single variable assignment\n",
        "print(n1)\n",
        "a = b = c = 10 # multiple variable assignment \n",
        "print(a,b,c)\n",
        "a1,b1,c1 = 100,200,300 # multiple variable assignment with different values\n",
        "print(a1,b1,c1)"
      ],
      "execution_count": 14,
      "outputs": [
        {
          "output_type": "stream",
          "text": [
            "100\n",
            "10 10 10\n",
            "100 200 300\n"
          ],
          "name": "stdout"
        }
      ]
    },
    {
      "cell_type": "code",
      "metadata": {
        "id": "HHQwzM-mJ1RM",
        "colab_type": "code",
        "colab": {}
      },
      "source": [
        ""
      ],
      "execution_count": 0,
      "outputs": []
    },
    {
      "cell_type": "code",
      "metadata": {
        "id": "nYIBJ0wIL1d_",
        "colab_type": "code",
        "colab": {}
      },
      "source": [
        ""
      ],
      "execution_count": 0,
      "outputs": []
    },
    {
      "cell_type": "markdown",
      "metadata": {
        "id": "g7QvR4kyKnvK",
        "colab_type": "text"
      },
      "source": [
        "data types and conversions\n"
      ]
    },
    {
      "cell_type": "code",
      "metadata": {
        "id": "rotxt6eHKsf5",
        "colab_type": "code",
        "colab": {}
      },
      "source": [
        ""
      ],
      "execution_count": 0,
      "outputs": []
    },
    {
      "cell_type": "markdown",
      "metadata": {
        "id": "TzwLfmjVLMPs",
        "colab_type": "text"
      },
      "source": [
        "int\n",
        "float\n",
        "string"
      ]
    },
    {
      "cell_type": "code",
      "metadata": {
        "id": "btbfXo0fLSmJ",
        "colab_type": "code",
        "colab": {
          "base_uri": "https://localhost:8080/",
          "height": 34
        },
        "outputId": "bbbf9718-40db-4389-d7a7-f08e12a799c8"
      },
      "source": [
        "a = 100\n",
        "s1 = 10.2\n",
        "s2 = \"python\"\n",
        "print(type(a),type(s1),type(s2))"
      ],
      "execution_count": 10,
      "outputs": [
        {
          "output_type": "stream",
          "text": [
            "<class 'int'> <class 'float'> <class 'str'>\n"
          ],
          "name": "stdout"
        }
      ]
    },
    {
      "cell_type": "code",
      "metadata": {
        "id": "G6yEUxtPLost",
        "colab_type": "code",
        "colab": {
          "base_uri": "https://localhost:8080/",
          "height": 68
        },
        "outputId": "1e7610f2-3370-43ef-9aa0-d3502044fa14"
      },
      "source": [
        "i = 100\n",
        "print(type(i))\n",
        "s1 = str(i)\n",
        "print(type(s1))\n",
        "f1 = float(i)\n",
        "print(type(f1))"
      ],
      "execution_count": 12,
      "outputs": [
        {
          "output_type": "stream",
          "text": [
            "<class 'int'>\n",
            "<class 'str'>\n",
            "<class 'float'>\n"
          ],
          "name": "stdout"
        }
      ]
    },
    {
      "cell_type": "code",
      "metadata": {
        "id": "yL9SmExDMRsK",
        "colab_type": "code",
        "colab": {
          "base_uri": "https://localhost:8080/",
          "height": 34
        },
        "outputId": "d7796567-ca8f-4e2e-d30b-395bcf53a745"
      },
      "source": [
        "# length\n",
        "a = 123456\n",
        "print(len(str(a)))"
      ],
      "execution_count": 15,
      "outputs": [
        {
          "output_type": "stream",
          "text": [
            "6\n"
          ],
          "name": "stdout"
        }
      ]
    },
    {
      "cell_type": "code",
      "metadata": {
        "id": "tqI2MTwJNStu",
        "colab_type": "code",
        "colab": {}
      },
      "source": [
        ""
      ],
      "execution_count": 0,
      "outputs": []
    },
    {
      "cell_type": "markdown",
      "metadata": {
        "id": "q9Fx2a6kNdgG",
        "colab_type": "text"
      },
      "source": [
        "# Reading input form user--- input function\n"
      ]
    },
    {
      "cell_type": "code",
      "metadata": {
        "id": "4gKJqTtmNow6",
        "colab_type": "code",
        "colab": {
          "base_uri": "https://localhost:8080/",
          "height": 68
        },
        "outputId": "3f81dae2-2228-4ec9-9e73-5641a23189ee"
      },
      "source": [
        "a = input(\"enter ur name\")\n",
        "print(a)\n",
        "print(type(a))"
      ],
      "execution_count": 16,
      "outputs": [
        {
          "output_type": "stream",
          "text": [
            "enter ur namelavanya\n",
            "lavanya\n",
            "<class 'str'>\n"
          ],
          "name": "stdout"
        }
      ]
    },
    {
      "cell_type": "code",
      "metadata": {
        "id": "E1MdNXHiN8a6",
        "colab_type": "code",
        "colab": {
          "base_uri": "https://localhost:8080/",
          "height": 68
        },
        "outputId": "b1680242-8ab7-4aed-9e32-f8bf61e56413"
      },
      "source": [
        "b = int(input(\"enter ur age : \"))\n",
        "print(b)\n",
        "print(type(b))"
      ],
      "execution_count": 17,
      "outputs": [
        {
          "output_type": "stream",
          "text": [
            "enter ur age : 20\n",
            "20\n",
            "<class 'int'>\n"
          ],
          "name": "stdout"
        }
      ]
    },
    {
      "cell_type": "markdown",
      "metadata": {
        "id": "5BMxiBOTPHbn",
        "colab_type": "text"
      },
      "source": [
        "# operators\n",
        "- operator is a symbol is used to perform a specific kind of operations"
      ]
    },
    {
      "cell_type": "code",
      "metadata": {
        "id": "y7IpJtgtO6A-",
        "colab_type": "code",
        "colab": {}
      },
      "source": [
        ""
      ],
      "execution_count": 0,
      "outputs": []
    },
    {
      "cell_type": "markdown",
      "metadata": {
        "id": "vSxNF2xfPbWU",
        "colab_type": "text"
      },
      "source": [
        "# Arithmetic Operator\n",
        "- +\n",
        "- -\n",
        "- *\n",
        "- /\n",
        "- %\n",
        "- //\n"
      ]
    },
    {
      "cell_type": "code",
      "metadata": {
        "id": "L-HPiNvQPtNY",
        "colab_type": "code",
        "colab": {
          "base_uri": "https://localhost:8080/",
          "height": 136
        },
        "outputId": "5e1bc7bc-1b1f-4655-c252-9d1952b1a595"
      },
      "source": [
        "a = 1234\n",
        "print(a+10)\n",
        "print(a-10)\n",
        "print(a*10)\n",
        "print(a/10)\n",
        "print(a%10)\n",
        "print(a//10)\n",
        "print(a**10)\n"
      ],
      "execution_count": 19,
      "outputs": [
        {
          "output_type": "stream",
          "text": [
            "1244\n",
            "1224\n",
            "12340\n",
            "123.4\n",
            "4\n",
            "123\n",
            "8187505353567209228244052427776\n"
          ],
          "name": "stdout"
        }
      ]
    },
    {
      "cell_type": "code",
      "metadata": {
        "id": "S7pYSP1-QC17",
        "colab_type": "code",
        "colab": {}
      },
      "source": [
        ""
      ],
      "execution_count": 0,
      "outputs": []
    },
    {
      "cell_type": "markdown",
      "metadata": {
        "id": "8dEFB41CR9Iz",
        "colab_type": "text"
      },
      "source": [
        "# Relational operator\n",
        "- =\n",
        "- ==\n",
        "- !=\n",
        "- <\n",
        "- >\n",
        "- <=\n",
        "- >=\n"
      ]
    },
    {
      "cell_type": "code",
      "metadata": {
        "id": "pPtqf_whSaDp",
        "colab_type": "code",
        "colab": {
          "base_uri": "https://localhost:8080/",
          "height": 34
        },
        "outputId": "4bcd191a-7454-427a-dcd8-771bdacad054"
      },
      "source": [
        "x = 10\n",
        "a1 = x > 15\n",
        "print(a1)"
      ],
      "execution_count": 20,
      "outputs": [
        {
          "output_type": "stream",
          "text": [
            "False\n"
          ],
          "name": "stdout"
        }
      ]
    },
    {
      "cell_type": "code",
      "metadata": {
        "id": "qlc31-28SkZr",
        "colab_type": "code",
        "colab": {}
      },
      "source": [
        ""
      ],
      "execution_count": 0,
      "outputs": []
    },
    {
      "cell_type": "markdown",
      "metadata": {
        "id": "sKbMp7VDS73X",
        "colab_type": "text"
      },
      "source": [
        "# logical operators\n",
        "- and\n",
        "- or\n",
        "- not"
      ]
    },
    {
      "cell_type": "code",
      "metadata": {
        "id": "dJuXjZSZTM7L",
        "colab_type": "code",
        "colab": {
          "base_uri": "https://localhost:8080/",
          "height": 68
        },
        "outputId": "4a5e3012-a19e-4cc2-b59e-1d0892be1661"
      },
      "source": [
        "i = 100\n",
        "a1 = (i>15) and (i < 800)\n",
        "a2 = (i>15) or (i > 800)\n",
        "i = not 100\n",
        "\n",
        "print(a1)\n",
        "print(a2)\n",
        "print(i)"
      ],
      "execution_count": 24,
      "outputs": [
        {
          "output_type": "stream",
          "text": [
            "True\n",
            "True\n",
            "False\n"
          ],
          "name": "stdout"
        }
      ]
    },
    {
      "cell_type": "code",
      "metadata": {
        "id": "2BBeCLOBTn9s",
        "colab_type": "code",
        "colab": {}
      },
      "source": [
        ""
      ],
      "execution_count": 0,
      "outputs": []
    },
    {
      "cell_type": "markdown",
      "metadata": {
        "id": "P45oOIU4UmvV",
        "colab_type": "text"
      },
      "source": [
        "# control flow statements\n",
        "- conditional statements\n",
        "- looping statements\n"
      ]
    },
    {
      "cell_type": "code",
      "metadata": {
        "id": "g_z6lwd-Uymb",
        "colab_type": "code",
        "colab": {}
      },
      "source": [
        ""
      ],
      "execution_count": 0,
      "outputs": []
    },
    {
      "cell_type": "markdown",
      "metadata": {
        "id": "ILwSdz9bVBSI",
        "colab_type": "text"
      },
      "source": [
        "# if - else statements\n",
        "## syntax\n",
        "# if boolean_condition\n",
        "# statements\n",
        "# else:\n",
        "# statements"
      ]
    },
    {
      "cell_type": "code",
      "metadata": {
        "id": "lgIL9d6LVYZo",
        "colab_type": "code",
        "colab": {
          "base_uri": "https://localhost:8080/",
          "height": 51
        },
        "outputId": "f05de5b4-7a1d-47c0-9e5f-c9a0573b89dd"
      },
      "source": [
        "# to check give a number is even or odd\n",
        "n = int(input(\"enter a number\"))\n",
        "if n%2 == 0:\n",
        "  print(n,\"is even number\")\n",
        "else:\n",
        "  print(n,\"is odd number\")"
      ],
      "execution_count": 28,
      "outputs": [
        {
          "output_type": "stream",
          "text": [
            "enter a number45\n",
            "45 is odd number\n"
          ],
          "name": "stdout"
        }
      ]
    },
    {
      "cell_type": "code",
      "metadata": {
        "id": "kc3RWdMvV_EM",
        "colab_type": "code",
        "colab": {
          "base_uri": "https://localhost:8080/",
          "height": 51
        },
        "outputId": "c738f34e-38c9-44e5-c129-464d6217cb59"
      },
      "source": [
        "# to check given number is perfectly multiples of 3 and 5\n",
        "n = int(input(\"enter a number\"))\n",
        "if n%3 == 0 and n%5 == 0:\n",
        "   print(n,\"is multiple of 3 and 5\")\n",
        "else:\n",
        "   print(n,\"is not multiple of 3 and 5\")   "
      ],
      "execution_count": 32,
      "outputs": [
        {
          "output_type": "stream",
          "text": [
            "enter a number25\n",
            "25 is not multiple of 3 and 5\n"
          ],
          "name": "stdout"
        }
      ]
    },
    {
      "cell_type": "code",
      "metadata": {
        "id": "W5y26YkkXtxv",
        "colab_type": "code",
        "colab": {
          "base_uri": "https://localhost:8080/",
          "height": 51
        },
        "outputId": "9f57f900-eebb-4d32-daf4-56f106e224ba"
      },
      "source": [
        "# to check given number is positive,negative or zero\n",
        "n = int(input(\"enter a number\"))\n",
        "if n>0:\n",
        "   print(n,\"given number is positive\")\n",
        "elif n<0:\n",
        "   print(n,\" given number is negative\")\n",
        "else:\n",
        "   print(n,\"zero\")   \n"
      ],
      "execution_count": 36,
      "outputs": [
        {
          "output_type": "stream",
          "text": [
            "enter a number45\n",
            "45 given number is positive\n"
          ],
          "name": "stdout"
        }
      ]
    },
    {
      "cell_type": "code",
      "metadata": {
        "id": "DK7GnB93aTqv",
        "colab_type": "code",
        "colab": {
          "base_uri": "https://localhost:8080/",
          "height": 85
        },
        "outputId": "ed83c56f-7422-472f-bed4-3ed2f76238f4"
      },
      "source": [
        "# largest number of three numbers\n",
        "a=int(input(\"enter a\"))\n",
        "b=int(input(\"enter b\"))\n",
        "c=int(input(\"enter c\"))\n",
        "if(a>b and a>c):\n",
        "  print(\"a is greater\")\n",
        "elif(b>a and b>c):\n",
        "  print(\"b is greater\")\n",
        "else:\n",
        "  print(\"c is greater\")\n",
        "\n",
        "\n"
      ],
      "execution_count": 39,
      "outputs": [
        {
          "output_type": "stream",
          "text": [
            "enter a10\n",
            "enter b20\n",
            "enter c11\n",
            "b is greater\n"
          ],
          "name": "stdout"
        }
      ]
    },
    {
      "cell_type": "code",
      "metadata": {
        "id": "Cx7cs7Hrc6kv",
        "colab_type": "code",
        "colab": {
          "base_uri": "https://localhost:8080/",
          "height": 51
        },
        "outputId": "d85e9a90-6871-407c-9726-6ed50e36fbc3"
      },
      "source": [
        "# leap year\n",
        "n = int(input(\"enter a year\"))\n",
        "if (n%4 == 0 and n%100!=0) or n%400 == 0:\n",
        "   print(\"is leap year\")\n",
        "else:\n",
        "   print(\"not leap year\")"
      ],
      "execution_count": 47,
      "outputs": [
        {
          "output_type": "stream",
          "text": [
            "enter a year2020\n",
            "is leap year\n"
          ],
          "name": "stdout"
        }
      ]
    },
    {
      "cell_type": "code",
      "metadata": {
        "id": "r2LntiUHeWjB",
        "colab_type": "code",
        "colab": {}
      },
      "source": [
        ""
      ],
      "execution_count": 0,
      "outputs": []
    }
  ]
}